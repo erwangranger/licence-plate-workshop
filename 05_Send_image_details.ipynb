{
 "cells": [
  {
   "cell_type": "markdown",
   "id": "ec26c864-89a4-41b2-a784-9d28c2c6fbe2",
   "metadata": {},
   "source": [
    "# Sending and image to the prediction service. \n",
    "\n",
    "We will show 2 ways that you can use to send the image to the prediction service you have just deployed. \n",
    "\n",
    "As soon as you provide the parameters we need:"
   ]
  },
  {
   "cell_type": "markdown",
   "id": "ee20c629-7c32-4e79-86ac-3b80239a4e38",
   "metadata": {},
   "source": [
    "## Parameters\n",
    "\n",
    "You need to provide 2 parameters: \n",
    "\n",
    "* the url of your service\n",
    "* the name (path) of the image to send to it"
   ]
  },
  {
   "cell_type": "code",
   "execution_count": null,
   "id": "5fadc920-6793-4c86-b6cd-cd609aae673a",
   "metadata": {},
   "outputs": [],
   "source": [
    "## we need a couple things:\n",
    "!pip install ipyfilechooser --quiet\n",
    "from __future__ import print_function\n",
    "from ipywidgets import interact, interactive, fixed, interact_manual\n",
    "import ipywidgets as widgets\n",
    "import requests"
   ]
  },
  {
   "cell_type": "markdown",
   "id": "c333590c-ab5c-451b-beca-3e6ffcebc6cc",
   "metadata": {},
   "source": [
    "### The URL of the service"
   ]
  },
  {
   "cell_type": "code",
   "execution_count": null,
   "id": "ecb6b81c-3ba4-4304-a8dd-094be6b3f60d",
   "metadata": {},
   "outputs": [],
   "source": [
    "## this function will validate the URL entered in the box\n",
    "def validate(url):\n",
    "    print(\"You provided the following URL:\" + url )\n",
    "    \n",
    "    ## make sure they changed the URL from the default value. \n",
    "    assert \"DUMMYURL\" not in url , \"YOU DID NOT UPDATE THE DEFAULT URL!\"\n",
    "    \n",
    "    ## make sure the url is a website\n",
    "    try:\n",
    "        r = requests.head(url)\n",
    "        print(\"HTTP Code returned: \" + str(r.status_code))\n",
    "        # prints the int of the status code. Find more at httpstatusrappers.com :)\n",
    "        assert r.status_code == 200 , \"You sure about that? That URL is not returning an HTTP code 200. \"\n",
    "        print (\"Seems good from what I can tell  \" + u'\\u2713')\n",
    "\n",
    "        ## at this point, we are ready to define the url as being valid:\n",
    "        global valid_url\n",
    "        valid_url = url\n",
    "\n",
    "    except requests.ConnectionError:\n",
    "        print(\"failed to connect\")\n",
    "\n",
    "## change the default name of the button\n",
    "my_interact_manual = interact_manual.options(manual_name=\"Validate that URL\")\n",
    "\n",
    "print(\"Enter below the URL of your deployed service\")\n",
    "\n",
    "## display the box and the button, with a default value\n",
    "my_url = my_interact_manual(validate, url=widgets.Text(value='http://DUMMYURL.apps.pilot.j61u.p1.openshiftapps.com/',description='URL:',layout=widgets.Layout(width='80%')));"
   ]
  },
  {
   "cell_type": "code",
   "execution_count": null,
   "id": "26c8cb83-7cca-4017-a496-0e40f9bafd51",
   "metadata": {},
   "outputs": [],
   "source": [
    "## make sure the valid_url got created\n",
    "assert valid_url , \"Something is off\"\n",
    "\n",
    "## not that we don't trust you, but let's verify actually updated the above text box\n",
    "assert \"DUMMYURL\" not in valid_url , \"YOU DID NOT UPDATE THE DEFAULT URL!\"\n",
    "\n",
    "## no output is a good sign"
   ]
  },
  {
   "cell_type": "code",
   "execution_count": null,
   "id": "8c917b66-ccb9-497d-9b39-aae6ed2399c4",
   "metadata": {},
   "outputs": [],
   "source": [
    "## and now let's make sure it's at least a functional website. \n",
    "import requests\n",
    "try:\n",
    "    r = requests.head(valid_url)\n",
    "    print(\"HTTP Code returned: \" + str(r.status_code))\n",
    "    # prints the int of the status code. Find more at httpstatusrappers.com :)\n",
    "    assert r.status_code == 200 , \"You sure about that? That URL is not returning an HTTP code 200. \"\n",
    "except requests.ConnectionError:\n",
    "    print(\"failed to connect\")\n",
    "\n",
    "## no output is a good sign"
   ]
  },
  {
   "cell_type": "markdown",
   "id": "27d7491d-9ebd-4765-97dc-2fcb3fa10bd0",
   "metadata": {},
   "source": [
    "### The Image to upload"
   ]
  },
  {
   "cell_type": "code",
   "execution_count": null,
   "id": "4b6381c8-964a-4927-a693-c4621309e9ae",
   "metadata": {},
   "outputs": [],
   "source": [
    "from ipyfilechooser import FileChooser\n",
    "fc = FileChooser('./')\n",
    "\n",
    "fc.filter_pattern = ['*.jpg', '*.png', '*.jpeg']\n",
    "\n",
    "# Change the title (use '' to hide)\n",
    "fc.title = '<b>Choose an image file</b>'\n",
    "display(fc)"
   ]
  },
  {
   "cell_type": "code",
   "execution_count": null,
   "id": "4c577331-8c00-43ea-8e0b-ccbd9a083729",
   "metadata": {},
   "outputs": [],
   "source": [
    "assert fc.selected , \"You need to choose a picture!\"\n",
    "\n",
    "print(\"The chosen file is:\" + fc.selected)"
   ]
  },
  {
   "cell_type": "markdown",
   "id": "d958068b-45fe-4618-9efe-46fa7c00fb52",
   "metadata": {},
   "source": [
    "### Review the parameters and their values"
   ]
  },
  {
   "cell_type": "code",
   "execution_count": null,
   "id": "76b1c31e-79ff-43ee-b432-817f6df74af6",
   "metadata": {},
   "outputs": [],
   "source": [
    "my_image = fc.selected\n",
    "my_route = valid_url\n",
    "\n",
    "print(\"URL of prediction server: \" + my_route)\n",
    "print(\"image path: \" + my_image)\n",
    "file = open(fc.selected, \"rb\")\n",
    "image = file.read()\n",
    "widgets.Image(\n",
    "    value=image,\n",
    "    format='png',\n",
    "    width=300,\n",
    "    height=400,\n",
    ")"
   ]
  },
  {
   "cell_type": "markdown",
   "id": "43137289-4480-4425-a68c-11250d1b4a0b",
   "metadata": {},
   "source": [
    "## Submitting an image to the service using python"
   ]
  },
  {
   "cell_type": "code",
   "execution_count": null,
   "id": "f467cccc-06c0-4ff3-96a7-51fb82535895",
   "metadata": {},
   "outputs": [],
   "source": [
    "import base64\n",
    "import requests\n",
    "from json import dumps\n",
    "\n",
    "with open(my_image, \"rb\") as image_file:\n",
    "    encoded_image = base64.b64encode(image_file.read()).decode('utf-8')\n",
    "content = {\"image\": encoded_image}\n",
    "json_data = dumps(content)\n",
    "\n",
    "headers = {\"Content-Type\" : \"application/json\"}\n",
    "\n",
    "r = requests.post(my_route + '/predictions', data=json_data, headers=headers)\n",
    "\n",
    "print(r.content)"
   ]
  },
  {
   "cell_type": "markdown",
   "id": "8cfcb6fa-9cc5-4f49-a3c4-febc6f9fb43d",
   "metadata": {},
   "source": [
    "## Submitting and image to the service using `curl`"
   ]
  },
  {
   "cell_type": "code",
   "execution_count": null,
   "id": "6a1dd4e2-82a7-4a99-9031-206e8bccd2b2",
   "metadata": {},
   "outputs": [],
   "source": [
    "# this format of command does not work right now, as far as I can tell. \n",
    "#CURL_COMMAND1 = 'curl -X POST -H \"Content-Type: application/json\" --data ' + \"'{\\\"data\\\": \\\"\" + my_image + \"\\\"}' \" + my_route + \"predictions\"\n",
    "# print (CURL_COMMAND)\n",
    "\n",
    "CURL_COMMAND2 = \"( echo -n '{\\\"image\\\": \\\"'; base64 \" + my_image + \"; echo '\\\"}' ) | curl -H \\\"Content-Type: application/json\\\" -d @- \" + my_route + \"/predictions \"\n",
    "\n",
    "print (\"this is the command to execute at the prompt:\\n\\n\" + \"     \" + CURL_COMMAND2 + '\\n')\n",
    "\n",
    "print (\"And this is the result\" + '\\n')\n",
    "!{CURL_COMMAND2}"
   ]
  }
 ],
 "metadata": {
  "kernelspec": {
   "display_name": "Python 3 (ipykernel)",
   "language": "python",
   "name": "python3"
  },
  "language_info": {
   "codemirror_mode": {
    "name": "ipython",
    "version": 3
   },
   "file_extension": ".py",
   "mimetype": "text/x-python",
   "name": "python",
   "nbconvert_exporter": "python",
   "pygments_lexer": "ipython3",
   "version": "3.8.6"
  }
 },
 "nbformat": 4,
 "nbformat_minor": 5
}
